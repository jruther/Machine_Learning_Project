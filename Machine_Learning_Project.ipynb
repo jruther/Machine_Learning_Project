{
 "cells": [
  {
   "cell_type": "markdown",
   "metadata": {},
   "source": [
    "<b>This is the start of my project for ML.</b>  JR. 29.9.19. "
   ]
  },
  {
   "cell_type": "markdown",
   "metadata": {},
   "source": [
    "This is markdown.\n",
    "\n",
    "Machine Learning Project Submission 2019¶\n",
    "Foreword\n",
    "The investigation and synthesis of data contained in this Jupyter Notebook is the project submission for the 4th semester 5 credit module - Machine Learning and Statistics, part of the course entitled Higher Diploma in Science - Computing(Data Analytics), submitted to Dr. Ian McLoughlin, Lecturer and Programme Director at GMIT.\n",
    "\n",
    "Submitted by Justin Rutherford\n",
    "November 2019.\n",
    "\n",
    "Project Requirements;\n",
    "Extract from the Problem Statement;\n",
    "\"Choose a real-world phenomenon that can be measured and for which you could collect at least one-hundred data points across at least four different variables.\n",
    "1. Investigate the types of variables involved, their likely distributions, and their relationships with each other.\n",
    "2. Synthesise/simulate a data set as closely matching their properties as possible.\n",
    "3. Detail your research and implement the simulation in a Jupyter notebook – the data set itself can simply be displayed in an output cell within the notebook\".\n",
    "\n",
    "Work Plan\n",
    "Decide on the real world phenomenon to be simulated and access a publically available dataset.\n",
    "Review the dataset and extract the relevant data for further investigation.\n",
    "Establish a baseline set of parameters for which we will then simulate data relecting closely the statistics of the real data.\n",
    "Conduct on-line research to establish the various probability distributions used to simulate similar datasets.\n",
    "Using an appropriate/equivalent Numpy Random distribution function we will then simulate datasets based on the statistics obtained.\n",
    "We will then summarise and provide commentary and comparative analysis of findings from both real and simulated datasets.\n",
    "Summary Results and Commentary\n",
    "\n",
    "\n",
    "\n",
    "\n"
   ]
  },
  {
   "cell_type": "code",
   "execution_count": 3,
   "metadata": {},
   "outputs": [],
   "source": [
    "import keras as ks\n",
    "import pandas as pd\n",
    "import numpy as np"
   ]
  },
  {
   "cell_type": "code",
   "execution_count": 14,
   "metadata": {},
   "outputs": [
    {
     "data": {
      "text/plain": [
       "'C:\\\\Users\\\\justi\\\\Dropbox\\\\School Folder\\\\Semester4\\\\Machine_Learning\\\\Machine_Learning_Project'"
      ]
     },
     "execution_count": 14,
     "metadata": {},
     "output_type": "execute_result"
    }
   ],
   "source": [
    "import os\n",
    "os.getcwd()"
   ]
  },
  {
   "cell_type": "code",
   "execution_count": null,
   "metadata": {},
   "outputs": [],
   "source": []
  },
  {
   "cell_type": "code",
   "execution_count": null,
   "metadata": {},
   "outputs": [],
   "source": []
  },
  {
   "cell_type": "code",
   "execution_count": 15,
   "metadata": {},
   "outputs": [],
   "source": [
    "# Read in the csv file and select the columns we are interested in;\n",
    "df = pd.read_csv(\"Boston.csv\", low_memory=False)"
   ]
  },
  {
   "cell_type": "code",
   "execution_count": 16,
   "metadata": {},
   "outputs": [
    {
     "data": {
      "text/html": [
       "<div>\n",
       "<style scoped>\n",
       "    .dataframe tbody tr th:only-of-type {\n",
       "        vertical-align: middle;\n",
       "    }\n",
       "\n",
       "    .dataframe tbody tr th {\n",
       "        vertical-align: top;\n",
       "    }\n",
       "\n",
       "    .dataframe thead th {\n",
       "        text-align: right;\n",
       "    }\n",
       "</style>\n",
       "<table border=\"1\" class=\"dataframe\">\n",
       "  <thead>\n",
       "    <tr style=\"text-align: right;\">\n",
       "      <th></th>\n",
       "      <th>The Boston house-price data of Harrison, D. and Rubinfeld, D.L. 'Hedonic</th>\n",
       "    </tr>\n",
       "  </thead>\n",
       "  <tbody>\n",
       "    <tr>\n",
       "      <th>0</th>\n",
       "      <td>prices and the demand for clean air', J. Envi...</td>\n",
       "    </tr>\n",
       "    <tr>\n",
       "      <th>1</th>\n",
       "      <td>vol.5, 81-102, 1978.   Used in Belsley, Kuh &amp;...</td>\n",
       "    </tr>\n",
       "    <tr>\n",
       "      <th>2</th>\n",
       "      <td>...', Wiley, 1980.   N.B. Various transformat...</td>\n",
       "    </tr>\n",
       "    <tr>\n",
       "      <th>3</th>\n",
       "      <td>pages 244-261 of the latter.</td>\n",
       "    </tr>\n",
       "    <tr>\n",
       "      <th>4</th>\n",
       "      <td>Variables in order:</td>\n",
       "    </tr>\n",
       "  </tbody>\n",
       "</table>\n",
       "</div>"
      ],
      "text/plain": [
       "   The Boston house-price data of Harrison, D. and Rubinfeld, D.L. 'Hedonic\n",
       "0   prices and the demand for clean air', J. Envi...                       \n",
       "1   vol.5, 81-102, 1978.   Used in Belsley, Kuh &...                       \n",
       "2   ...', Wiley, 1980.   N.B. Various transformat...                       \n",
       "3                       pages 244-261 of the latter.                       \n",
       "4                                Variables in order:                       "
      ]
     },
     "execution_count": 16,
     "metadata": {},
     "output_type": "execute_result"
    }
   ],
   "source": [
    "df.head()"
   ]
  },
  {
   "cell_type": "code",
   "execution_count": null,
   "metadata": {},
   "outputs": [],
   "source": []
  }
 ],
 "metadata": {
  "kernelspec": {
   "display_name": "Python 3",
   "language": "python",
   "name": "python3"
  },
  "language_info": {
   "codemirror_mode": {
    "name": "ipython",
    "version": 3
   },
   "file_extension": ".py",
   "mimetype": "text/x-python",
   "name": "python",
   "nbconvert_exporter": "python",
   "pygments_lexer": "ipython3",
   "version": "3.7.3"
  }
 },
 "nbformat": 4,
 "nbformat_minor": 2
}
